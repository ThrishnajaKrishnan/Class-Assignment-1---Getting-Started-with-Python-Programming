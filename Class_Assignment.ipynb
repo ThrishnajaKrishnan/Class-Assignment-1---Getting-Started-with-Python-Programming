{
  "nbformat": 4,
  "nbformat_minor": 0,
  "metadata": {
    "colab": {
      "name": "Class Assignment",
      "provenance": [],
      "authorship_tag": "ABX9TyOeHwvYhg4Sv8S40fNmO0OJ",
      "include_colab_link": true
    },
    "kernelspec": {
      "name": "python3",
      "display_name": "Python 3"
    }
  },
  "cells": [
    {
      "cell_type": "markdown",
      "metadata": {
        "id": "view-in-github",
        "colab_type": "text"
      },
      "source": [
        "<a href=\"https://colab.research.google.com/github/ThrishnajaKrishnan/Class-Assignment-1---Getting-Started-with-Python-Programming/blob/master/Class_Assignment.ipynb\" target=\"_parent\"><img src=\"https://colab.research.google.com/assets/colab-badge.svg\" alt=\"Open In Colab\"/></a>"
      ]
    },
    {
      "cell_type": "markdown",
      "metadata": {
        "id": "WTWNSqLef3cJ"
      },
      "source": [
        ""
      ]
    },
    {
      "cell_type": "markdown",
      "metadata": {
        "id": "gObSLW6gf5wI"
      },
      "source": [
        "Que 2\n",
        " \n",
        " \n",
        "Python pass Statement\n",
        "The pass statement is used as a placeholder for future code. When the pass statement is executed, nothing happens, but you avoid getting an error when empty code is not allowed. Empty code is not allowed in loops, function definitions, class definitions, or in if statements."
      ]
    },
    {
      "cell_type": "markdown",
      "metadata": {
        "id": "mzBnN6FLgHBq"
      },
      "source": [
        " Que 5\n",
        " \n",
        "The advantages of using functions are:\n",
        "Reducing duplication of code.\n",
        "Decomposing complex problems into simpler pieces.\n",
        "Improving clarity of the code.\n",
        "Reuse of code.\n",
        "Information hiding."
      ]
    },
    {
      "cell_type": "markdown",
      "metadata": {
        "id": "2hFPIWsogQn3"
      },
      "source": [
        "Que 4"
      ]
    },
    {
      "cell_type": "code",
      "metadata": {
        "colab": {
          "base_uri": "https://localhost:8080/"
        },
        "id": "0736oqS6gSGM",
        "outputId": "7ea3ccb8-8aea-4d88-ed6f-ea9111de5d4e"
      },
      "source": [
        " \n",
        "def search(list, platform):\n",
        "    for i in range(len(list)):\n",
        "        if list[i] == platform:\n",
        "            return True\n",
        "    return False\n",
        " \n",
        " \n",
        "streaming = ['netflix', 'hulu', 'disney+', 'appletv+']\n",
        "platform = 'netflix'\n",
        " \n",
        "if search(streaming, platform):\n",
        "    print(\"Platform is found\")\n",
        "else:\n",
        "    print(\"Platform does not found\")"
      ],
      "execution_count": 1,
      "outputs": [
        {
          "output_type": "stream",
          "text": [
            "Platform is found\n"
          ],
          "name": "stdout"
        }
      ]
    },
    {
      "cell_type": "markdown",
      "metadata": {
        "id": "w1d2PJ74g7Ap"
      },
      "source": [
        "Que 3"
      ]
    },
    {
      "cell_type": "code",
      "metadata": {
        "colab": {
          "base_uri": "https://localhost:8080/"
        },
        "id": "yU4-DuXeg-fn",
        "outputId": "b38da861-3d65-4623-b6a0-1b150ad8f2fb"
      },
      "source": [
        "print(\"Enter the First String: \")\n",
        "strOne = input()\n",
        "print(\"Enter the Second String: \")\n",
        "strTwo = input()\n",
        " \n",
        "lenOne = len(strOne)\n",
        "lenTwo = len(strTwo)\n",
        " \n",
        "if lenOne==lenTwo:\n",
        "    i = 0\n",
        "    chk = 0\n",
        "    while i<lenOne:\n",
        "        if strOne[i] != strTwo[i]:\n",
        "            chk = 1\n",
        "            break\n",
        "        i = i+1\n",
        "    if chk==0:\n",
        "        print(\"\\nStrings are Equal\")\n",
        "    else:\n",
        "        print(\"\\nStrings are Not Equal\")\n",
        "else:\n",
        "    print(\"\\nStrings are Not Equal\")"
      ],
      "execution_count": 2,
      "outputs": [
        {
          "output_type": "stream",
          "text": [
            "Enter the First String: \n",
            "'India'\n",
            "Enter the Second String: \n",
            "'Japan'\n",
            "\n",
            "Strings are Not Equal\n"
          ],
          "name": "stdout"
        }
      ]
    },
    {
      "cell_type": "markdown",
      "metadata": {
        "id": "2w_Am7HBhHzI"
      },
      "source": [
        " Que 8\n",
        " \n",
        "Exception handling ensures that the flow of the program doesn't break when an exception occurs. For example, if a program has bunch of statements and an exception occurs mid way after executing certain statements then the statements after the exception will not execute and the program will terminate abruptly."
      ]
    },
    {
      "cell_type": "markdown",
      "metadata": {
        "id": "_L7M8s1jhTWN"
      },
      "source": [
        " \n",
        " \n",
        " Que 6\n",
        " \n",
        "json module in Python module provides a method called dump() which converts the Python objects into appropriate json objects. It is a slight variant of dumps() method.\n",
        " \n",
        "Difference between dump() and dumps()\n",
        "dump()  dumps()\n",
        "The dump() method is used when the Python objects have to be stored in a file.  The dumps() is used when the objects are required to be in string format and is used for parsing, printing, etc, .\n",
        "The dump() needs the json file name in which the output has to be stored as an argument.    The dumps() does not require any such file name to be passed.\n",
        "This method writes in the memory and then command for writing to disk is executed separately    This method directly writes to the json file\n",
        "Faster method   2 times slower\n",
        "dump() and its arguments\n",
        "Syntax: json.dump(d, skipkeys=False, ensure_ascii=True, check_circular=True, allow_nan=True, cls=None, indent=None, separators=None)"
      ]
    },
    {
      "cell_type": "markdown",
      "metadata": {
        "id": "ozzoMqIXhxSB"
      },
      "source": [
        "Que 9\n",
        " \n",
        "Constructors are generally used for instantiating an object. The task of constructors is to initialize(assign values) to the data members of the class when an object of class is created.In Python the __init__() method is called the constructor and is always called when an object is created."
      ]
    },
    {
      "cell_type": "code",
      "metadata": {
        "colab": {
          "base_uri": "https://localhost:8080/"
        },
        "id": "8sJmez0_iPdH",
        "outputId": "ac2d720e-2e08-4347-d951-d9b89c10a97a"
      },
      "source": [
        " \n",
        "class DemoClass:\n",
        "    # constructor\n",
        "    def __init__(self):\n",
        "        # initializing instance variable\n",
        "        self.num=100\n",
        " \n",
        "    # a method\n",
        "    def read_number(self):\n",
        "        print(self.num)\n",
        " \n",
        " \n",
        "# creating object of the class. This invokes constructor\n",
        "obj = DemoClass()\n",
        " \n",
        "# calling the instance method using the object obj\n",
        "obj.read_number()"
      ],
      "execution_count": 3,
      "outputs": [
        {
          "output_type": "stream",
          "text": [
            "100\n"
          ],
          "name": "stdout"
        }
      ]
    },
    {
      "cell_type": "markdown",
      "metadata": {
        "id": "4KNmsGyIiY7o"
      },
      "source": [
        "Que 10\n",
        " \n",
        "__init__ method\n",
        "\"__init__\" is a reseved method in python classes. It is called as a constructor in object oriented terminology. This method is called when an object is created from a class and it allows the class to initialize the attributes of the class"
      ]
    },
    {
      "cell_type": "markdown",
      "metadata": {
        "id": "WH2AouzLivjI"
      },
      "source": [
        "Que 11  a"
      ]
    },
    {
      "cell_type": "markdown",
      "metadata": {
        "id": "ekVF8zUym8WN"
      },
      "source": [
        "Que 11 b\n",
        " \n",
        " \n",
        "   +   Addition    The operands on either side of this operator are added.\n",
        " \n",
        "-   Subtraction The operand on the right side of this operator is subtracted from the one on the left side.\n",
        " \n",
        "*   Multiplication  The operands on either side of this operator are multiplied\n",
        " \n",
        "/   Division    The operand on the left side of this operator is divided by the one on the right side. As a result, it returns the quotient in the form of a floating-point value.\n",
        " \n",
        "%   Modulo  The operand on the left side of this operator is divided by the one on the right side. As a result, it returns the remainder value.\n",
        " \n",
        "**  Exponent    This operator raises the left side operand to the power of the right side operand.\n",
        " \n",
        "//  Floor division  The operand on the left side of this operator is divided by the one on the right side. As a result, it returns the quotient in the form of an integer value."
      ]
    },
    {
      "cell_type": "code",
      "metadata": {
        "colab": {
          "base_uri": "https://localhost:8080/"
        },
        "id": "V1c20aodlbKP",
        "outputId": "3ddd2ae8-e45e-44aa-feb8-d2eaa2f9f4ff"
      },
      "source": [
        "x = 15\n",
        "y = 4\n",
        " \n",
        "# Output: x + y = 19\n",
        "print('x + y =',x+y)\n",
        " \n",
        "# Output: x - y = 11\n",
        "print('x - y =',x-y)\n",
        " \n",
        "# Output: x * y = 60\n",
        "print('x * y =',x*y)\n",
        " \n",
        "# Output: x / y = 3.75\n",
        "print('x / y =',x/y)\n",
        " \n",
        "# Output: x // y = 3\n",
        "print('x // y =',x//y)\n",
        " \n",
        "# Output: x ** y = 50625\n",
        "print('x ** y =',x**y)"
      ],
      "execution_count": 4,
      "outputs": [
        {
          "output_type": "stream",
          "text": [
            "x + y = 19\n",
            "x - y = 11\n",
            "x * y = 60\n",
            "x / y = 3.75\n",
            "x // y = 3\n",
            "x ** y = 50625\n"
          ],
          "name": "stdout"
        }
      ]
    },
    {
      "cell_type": "markdown",
      "metadata": {
        "id": "vrI0ZNSvoXJL"
      },
      "source": [
        "12 b\n",
        " \n",
        "Atoms: \n",
        "      Atom is an open-source cross-platform IDE. It supports packages developed in Node. js and Git version control. Most of the packages are freely available and built by open-source communities. This IDE is\n",
        " \n",
        "Identifiers :\n",
        "      Python Identifiers\n",
        "A Python identifier is a name used to identify a variable, function, class, module or other object. An identifier starts with a letter A to Z or a to z or an underscore (_) followed by zero or more letters, underscores and digits (0 to 9).\n",
        "    \n",
        "  Literals:\n",
        "          Generally, literals are a notation for representing a fixed value in source code. They can also be defined as raw value or data given in variables or constants.\n",
        "Here 24, 24.3, 2+3j are considered as literals.\n",
        "Python has different types of literals."
      ]
    },
    {
      "cell_type": "markdown",
      "metadata": {
        "id": "9X9D5V6hog10"
      },
      "source": [
        "Que 13 a"
      ]
    },
    {
      "cell_type": "code",
      "metadata": {
        "colab": {
          "base_uri": "https://localhost:8080/"
        },
        "id": "w0ME4vZ6opHU",
        "outputId": "fc519be0-5466-4af8-dc94-7fb3b38d70a7"
      },
      "source": [
        "# Program to add two matrices using nested loop\n",
        " \n",
        "X = [[12,7,3],\n",
        "    [4 ,5,6],\n",
        "    [7 ,8,9]]\n",
        " \n",
        "Y = [[5,8,1],\n",
        "    [6,7,3],\n",
        "    [4,5,9]]\n",
        " \n",
        "result = [[0,0,0],\n",
        "         [0,0,0],\n",
        "         [0,0,0]]\n",
        " \n",
        "# iterate through rows\n",
        "for i in range(len(X)):\n",
        "   # iterate through columns\n",
        "   for j in range(len(X[0])):\n",
        "       result[i][j] = X[i][j] + Y[i][j]\n",
        " \n",
        "for r in result:\n",
        "   print(r)"
      ],
      "execution_count": 5,
      "outputs": [
        {
          "output_type": "stream",
          "text": [
            "[17, 15, 4]\n",
            "[10, 12, 9]\n",
            "[11, 13, 18]\n"
          ],
          "name": "stdout"
        }
      ]
    },
    {
      "cell_type": "markdown",
      "metadata": {
        "id": "-NK0kCVxorq-"
      },
      "source": [
        "Que 13 b"
      ]
    },
    {
      "cell_type": "code",
      "metadata": {
        "colab": {
          "base_uri": "https://localhost:8080/"
        },
        "id": "rrUSuSInov2R",
        "outputId": "39dcb9f8-2d3b-4400-d6f1-c7cd6bfeb2bf"
      },
      "source": [
        "# Program to check if a string is palindrome or not\n",
        " \n",
        "my_str = 'aIbohPhoBiA'\n",
        " \n",
        "# make it suitable for caseless comparison\n",
        "my_str = my_str.casefold()\n",
        " \n",
        "# reverse the string\n",
        "rev_str = reversed(my_str)\n",
        " \n",
        "# check if the string is equal to its reverse\n",
        "if list(my_str) == list(rev_str):\n",
        "   print(\"The string is a palindrome.\")\n",
        "else:\n",
        "   print(\"The string is not a palindrome.\")"
      ],
      "execution_count": 6,
      "outputs": [
        {
          "output_type": "stream",
          "text": [
            "The string is a palindrome.\n"
          ],
          "name": "stdout"
        }
      ]
    },
    {
      "cell_type": "markdown",
      "metadata": {
        "id": "kLj3tJnHoyQl"
      },
      "source": [
        "Que 14 a\n",
        " \n",
        "Creating a dictionary is as simple as placing items inside curly braces {} separated by commas.\n",
        " \n",
        "An item has a key and a corresponding value that is expressed as a pair (key: value).\n",
        " \n",
        "While the values can be of any data type and can repeat, keys must be of immutable type (string, number or tuple with immutable elements) and must be unique."
      ]
    },
    {
      "cell_type": "code",
      "metadata": {
        "colab": {
          "base_uri": "https://localhost:8080/"
        },
        "id": "BzSTZ6w6qIKB",
        "outputId": "09443a32-45a7-4718-a121-05c37c46a385"
      },
      "source": [
        "matrix=[[0,0,0,1,0],\n",
        "        [2,0,0,0,3],\n",
        "        [0,0,0,4,0]]\n",
        "Dict={}\n",
        "print(\"Sparse Matrix\")\n",
        "for i in range(len(matrix)):\n",
        "    print(\"\\n\")\n",
        "    for j in range(len(matrix[i])):\n",
        "        print(matrix[i][j], end=' ')\n",
        "        if matrix[i][j]!=0:\n",
        "            Dict[i,j]=matrix[i][j]\n",
        "print(\"Sparse Matrix can be represented as Dictionary:\")\n",
        "print(Dict)"
      ],
      "execution_count": 8,
      "outputs": [
        {
          "output_type": "stream",
          "text": [
            "Sparse Matrix\n",
            "\n",
            "\n",
            "0 0 0 1 0 \n",
            "\n",
            "2 0 0 0 3 \n",
            "\n",
            "0 0 0 4 0 Sparse Matrix can be represented as Dictionary:\n",
            "{(0, 3): 1, (1, 0): 2, (1, 4): 3, (2, 3): 4}\n"
          ],
          "name": "stdout"
        }
      ]
    },
    {
      "cell_type": "markdown",
      "metadata": {
        "id": "qtGYZc4brB6m"
      },
      "source": [
        "14 b 1"
      ]
    },
    {
      "cell_type": "code",
      "metadata": {
        "colab": {
          "base_uri": "https://localhost:8080/"
        },
        "id": "jU9YAmQRsrXc",
        "outputId": "dfef4f7e-d1d7-4e8e-d424-d45679c1a753"
      },
      "source": [
        " \n",
        "string = \"THIS SHOULD BE LOWERCASE!\"\n",
        "print(string.lower())\n",
        " \n",
        "# string with numbers\n",
        "# all alphabets whould be lowercase\n",
        "string = \"Th!s Sh0uLd B3 L0w3rCas3!\"\n",
        "print(string.lower())"
      ],
      "execution_count": 9,
      "outputs": [
        {
          "output_type": "stream",
          "text": [
            "this should be lowercase!\n",
            "th!s sh0uld b3 l0w3rcas3!\n"
          ],
          "name": "stdout"
        }
      ]
    },
    {
      "cell_type": "markdown",
      "metadata": {
        "id": "13TCtqp0swXP"
      },
      "source": [
        "14 b 2"
      ]
    },
    {
      "cell_type": "markdown",
      "metadata": {
        "id": "S6SdJ2AeutpK"
      },
      "source": [
        "16 a\n",
        " \n",
        "A recursive function is a function defined in terms of itself via self-referential expressions. This means that the function will continue to call itself and repeat its behavior until some condition is met to return a result."
      ]
    },
    {
      "cell_type": "code",
      "metadata": {
        "colab": {
          "base_uri": "https://localhost:8080/"
        },
        "id": "1B-2EgvEvrts",
        "outputId": "0dacaf87-dbda-4e86-8df8-37be9be69cd7"
      },
      "source": [
        "# Factorial of a number using recursion\n",
        " \n",
        "def recur_factorial(n):\n",
        "   if n == 1:\n",
        "       return n\n",
        "   else:\n",
        "       return n*recur_factorial(n-1)\n",
        " \n",
        "num = 7\n",
        " \n",
        "# check if the number is negative\n",
        "if num < 0:\n",
        "   print(\"Sorry, factorial does not exist for negative numbers\")\n",
        "elif num == 0:\n",
        "   print(\"The factorial of 0 is 1\")\n",
        "else:\n",
        "   print(\"The factorial of\", num, \"is\", recur_factorial(num))"
      ],
      "execution_count": 11,
      "outputs": [
        {
          "output_type": "stream",
          "text": [
            "The factorial of 7 is 5040\n"
          ],
          "name": "stdout"
        }
      ]
    },
    {
      "cell_type": "markdown",
      "metadata": {
        "id": "Gk3BKesTwgZO"
      },
      "source": [
        "16 b"
      ]
    },
    {
      "cell_type": "code",
      "metadata": {
        "colab": {
          "base_uri": "https://localhost:8080/"
        },
        "id": "koMKDlbawiBI",
        "outputId": "b271496b-0a6f-444e-e0fd-cd1d021ab521"
      },
      "source": [
        "print(\"Input lengths of the triangle sides: \")\n",
        "x = int(input(\"x: \"))\n",
        "y = int(input(\"y: \"))\n",
        "z = int(input(\"z: \"))\n",
        " \n",
        "if x == y == z:\n",
        " print(\"Equilateral triangle\")\n",
        "elif x==y or y==z or z==x:\n",
        " print(\"isosceles triangle\")\n",
        "else:\n",
        " print(\"Scalene triangle\")"
      ],
      "execution_count": 13,
      "outputs": [
        {
          "output_type": "stream",
          "text": [
            "Input lengths of the triangle sides: \n",
            "x: 5\n",
            "y: 6\n",
            "z: 8\n",
            "Scalene triangle\n"
          ],
          "name": "stdout"
        }
      ]
    },
    {
      "cell_type": "markdown",
      "metadata": {
        "id": "Rz_uIj_Yw1UF"
      },
      "source": [
        "Que 7"
      ]
    },
    {
      "cell_type": "code",
      "metadata": {
        "colab": {
          "base_uri": "https://localhost:8080/"
        },
        "id": "6SPVSQiNw3eq",
        "outputId": "99c1a061-28b3-4295-ce3f-22ca06f041fc"
      },
      "source": [
        ">>> import os.path\n",
        ">>> os.path.isfile('mydirectory/myfile.txt')\n",
        "True\n",
        ">>> os.path.isfile('does-not-exist.txt')\n",
        "False\n",
        ">>> os.path.isfile('mydirectory')\n",
        "False"
      ],
      "execution_count": 14,
      "outputs": [
        {
          "output_type": "execute_result",
          "data": {
            "text/plain": [
              "False"
            ]
          },
          "metadata": {
            "tags": []
          },
          "execution_count": 14
        }
      ]
    },
    {
      "cell_type": "markdown",
      "metadata": {
        "id": "wCnxdBhExZtk"
      },
      "source": [
        "Que 17 \n",
        "a\n",
        "Python has many built-in exceptions that are raised when your program encounters an error (something in the program goes wrong).\n",
        " \n",
        "When these exceptions occur, the Python interpreter stops the current process and passes it to the calling process until it is handled. If not handled, the program will crash.\n",
        " \n",
        "For example, let us consider a program where we have a function A that calls function B, which in turn calls function C. If an exception occurs in function C but is not handled in C, the exception passes to B and then to A.\n",
        " \n",
        "If never handled, an error message is displayed and our program comes to a sudden unexpected halt."
      ]
    },
    {
      "cell_type": "code",
      "metadata": {
        "colab": {
          "base_uri": "https://localhost:8080/"
        },
        "id": "zo1vROmVxcS9",
        "outputId": "ee4e7179-9762-48db-f0b6-e7a454cf3450"
      },
      "source": [
        " import sys\n",
        " \n",
        "randomList = ['a', 0, 2]\n",
        " \n",
        "for entry in randomList:\n",
        "    try:\n",
        "        print(\"The entry is\", entry)\n",
        "        r = 1/int(entry)\n",
        "        break\n",
        "    except:\n",
        "        print(\"Oops!\", sys.exc_info()[0], \"occurred.\")\n",
        "        print(\"Next entry.\")\n",
        "        print()\n",
        "print(\"The reciprocal of\", entry, \"is\", r)"
      ],
      "execution_count": 15,
      "outputs": [
        {
          "output_type": "stream",
          "text": [
            "The entry is a\n",
            "Oops! <class 'ValueError'> occurred.\n",
            "Next entry.\n",
            "\n",
            "The entry is 0\n",
            "Oops! <class 'ZeroDivisionError'> occurred.\n",
            "Next entry.\n",
            "\n",
            "The entry is 2\n",
            "The reciprocal of 2 is 0.5\n"
          ],
          "name": "stdout"
        }
      ]
    },
    {
      "cell_type": "markdown",
      "metadata": {
        "id": "vF9RLfKeyEsa"
      },
      "source": [
        " 18 a"
      ]
    },
    {
      "cell_type": "code",
      "metadata": {
        "colab": {
          "base_uri": "https://localhost:8080/"
        },
        "id": "4DvgsFyeywMK",
        "outputId": "07ed7fb9-32c8-4a12-c92c-e90ee8b6cf76"
      },
      "source": [
        "# import module sys to get the type of exception\n",
        "import sys\n",
        " \n",
        "randomList = ['a', 0, 2]\n",
        " \n",
        "for entry in randomList:\n",
        "    try:\n",
        "        print(\"The entry is\", entry)\n",
        "        r = 1/int(entry)\n",
        "        break\n",
        "    except:\n",
        "        print(\"Oops!\", sys.exc_info()[0], \"occurred.\")\n",
        "        print(\"Next entry.\")\n",
        "        print()\n",
        "print(\"The reciprocal of\", entry, \"is\", r)"
      ],
      "execution_count": 16,
      "outputs": [
        {
          "output_type": "stream",
          "text": [
            "The entry is a\n",
            "Oops! <class 'ValueError'> occurred.\n",
            "Next entry.\n",
            "\n",
            "The entry is 0\n",
            "Oops! <class 'ZeroDivisionError'> occurred.\n",
            "Next entry.\n",
            "\n",
            "The entry is 2\n",
            "The reciprocal of 2 is 0.5\n"
          ],
          "name": "stdout"
        }
      ]
    },
    {
      "cell_type": "code",
      "metadata": {
        "id": "edZ0RG8dzob3"
      },
      "source": [
        "try:\n",
        "   # do something\n",
        "   pass\n",
        " \n",
        "except ValueError:\n",
        "   # handle ValueError exception\n",
        "   pass\n",
        " \n",
        "except (TypeError, ZeroDivisionError):\n",
        "   # handle multiple exceptions\n",
        "   # TypeError and ZeroDivisionError\n",
        "   pass\n",
        " \n",
        "except:\n",
        "   # handle all other exceptions\n",
        "   pass"
      ],
      "execution_count": 18,
      "outputs": []
    },
    {
      "cell_type": "markdown",
      "metadata": {
        "id": "8DD0Pjj4zt5x"
      },
      "source": [
        " Que 1"
      ]
    },
    {
      "cell_type": "code",
      "metadata": {
        "colab": {
          "base_uri": "https://localhost:8080/"
        },
        "id": "xL2GjYII0aWS",
        "outputId": "1888cacc-4d03-4813-858a-e1a474df25b1"
      },
      "source": [
        "def sum_odd(lst):\n",
        "  sum=0\n",
        "  for i in lst:\n",
        "    if i%2!=0:\n",
        "      sum+=i\n",
        "  print(sum)\n",
        " \n",
        "sum_odd([1,2,3,5,6,7])"
      ],
      "execution_count": 19,
      "outputs": [
        {
          "output_type": "stream",
          "text": [
            "16\n"
          ],
          "name": "stdout"
        }
      ]
    }
  ]
}