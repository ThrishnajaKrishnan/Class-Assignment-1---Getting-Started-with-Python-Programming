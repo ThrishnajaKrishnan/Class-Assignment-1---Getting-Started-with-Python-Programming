{
  "nbformat": 4,
  "nbformat_minor": 0,
  "metadata": {
    "colab": {
      "name": "Internal 2",
      "provenance": [],
      "authorship_tag": "ABX9TyM4zMHTD8TK9Rf7QyZhxgE7",
      "include_colab_link": true
    },
    "kernelspec": {
      "name": "python3",
      "display_name": "Python 3"
    }
  },
  "cells": [
    {
      "cell_type": "markdown",
      "metadata": {
        "id": "view-in-github",
        "colab_type": "text"
      },
      "source": [
        "<a href=\"https://colab.research.google.com/github/ThrishnajaKrishnan/Class-Assignment-1---Getting-Started-with-Python-Programming/blob/master/Internal_2.ipynb\" target=\"_parent\"><img src=\"https://colab.research.google.com/assets/colab-badge.svg\" alt=\"Open In Colab\"/></a>"
      ]
    },
    {
      "cell_type": "markdown",
      "metadata": {
        "id": "JtnWed4nEICk"
      },
      "source": [
        "Question no.1"
      ]
    },
    {
      "cell_type": "code",
      "metadata": {
        "colab": {
          "base_uri": "https://localhost:8080/"
        },
        "id": "w9KRQaAkEKm3",
        "outputId": "edc74b79-e442-458f-a5e7-d7b90d819c6f"
      },
      "source": [
        " \n",
        "my_dict={'a':1, 'b':3, 'c':1, 'd':2}\n",
        "lookup_value=1\n",
        "all_keys=[]\n",
        "for key,value in my_dict.items() :\n",
        "    if (value==lookup_value):\n",
        "        all_keys.append(key)\n",
        "print (all_keys)"
      ],
      "execution_count": 1,
      "outputs": [
        {
          "output_type": "stream",
          "text": [
            "['a', 'c']\n"
          ],
          "name": "stdout"
        }
      ]
    },
    {
      "cell_type": "markdown",
      "metadata": {
        "id": "v5kvw7sxENMa"
      },
      "source": [
        "Question no. 2"
      ]
    },
    {
      "cell_type": "code",
      "metadata": {
        "colab": {
          "base_uri": "https://localhost:8080/"
        },
        "id": "pIJ2L6rFEv9A",
        "outputId": "c1d9bb03-ff2f-407f-f7dc-27f0b561af93"
      },
      "source": [
        " \n",
        "class Rectange:\n",
        "    def __init__(self,width=0,height=0,corner_x=0,corner_y=0):\n",
        "        self.width = width\n",
        "        self.height = height\n",
        "        self.corner_x = corner_x\n",
        "        self.corner_y = corner_y\n",
        " \n",
        " \n",
        "    def area(self):\n",
        " \n",
        "      print(\"Area:\",self.height*self.width)\n",
        " \n",
        "    def perimeter(self):\n",
        "      print(\"Perimeter:\", 2*(self.height+self.width))\n",
        " \n",
        "robj = Rectange(10,5)\n",
        " \n",
        "robj.area()\n",
        "robj.perimeter()"
      ],
      "execution_count": 3,
      "outputs": [
        {
          "output_type": "stream",
          "text": [
            "Area: 50\n",
            "Perimeter: 30\n"
          ],
          "name": "stdout"
        }
      ]
    },
    {
      "cell_type": "markdown",
      "metadata": {
        "id": "TMa_DI21FFdf"
      },
      "source": [
        "Question no.3"
      ]
    },
    {
      "cell_type": "code",
      "metadata": {
        "colab": {
          "base_uri": "https://localhost:8080/"
        },
        "id": "qvqyTZE9FHfW",
        "outputId": "93f71058-3c6e-4545-ab61-693d9ee0ce59"
      },
      "source": [
        " \n",
        "def Remove(duplicate):\n",
        " \n",
        "    final_list = []\n",
        " \n",
        "    for num in duplicate:\n",
        " \n",
        "        if num not in final_list:\n",
        " \n",
        "            final_list.append(num)\n",
        " \n",
        "    return final_list\n",
        " \n",
        "     \n",
        "# Driver Code\n",
        " \n",
        "duplicate = [2, 4, 10, 20, 5, 2, 20, 4]\n",
        " \n",
        "print(Remove(duplicate))"
      ],
      "execution_count": 4,
      "outputs": [
        {
          "output_type": "stream",
          "text": [
            "[2, 4, 10, 20, 5]\n"
          ],
          "name": "stdout"
        }
      ]
    },
    {
      "cell_type": "markdown",
      "metadata": {
        "id": "QHcZ3kC8FPcx"
      },
      "source": [
        "Question no.4"
      ]
    },
    {
      "cell_type": "code",
      "metadata": {
        "colab": {
          "base_uri": "https://localhost:8080/"
        },
        "id": "1IeMWaMJFRZZ",
        "outputId": "6dd7c077-2a89-4984-fcc5-401be2c6d417"
      },
      "source": [
        " \n",
        "class Polygon:\n",
        "    def __init__(self,number,name):\n",
        "        self.number = number\n",
        "        self.name=name\n",
        "        self.sides=[]\n",
        "    def inputsides(self):\n",
        "      print(self.name)\n",
        "      for i in range(0,self.number):\n",
        "            ele=float(input(\"Enter side \"+str(i+1)+\" : \"))\n",
        "            self.sides.append(ele)\n",
        "class Triangle(Polygon):\n",
        "    def __init__(self):\n",
        "        Polygon.__init__(self, 3 ,\"TRIANGLE :\")\n",
        " \n",
        "    def trianglearea(self):\n",
        "        a, b, c = self.sides\n",
        "        s = (a + b + c) / 2\n",
        "        area = (s*(s-a)*(s-b)*(s-c)) ** 0.5\n",
        "        print(\"The area of the triangle is : %0.2f  \" % area)\n",
        " \n",
        "class Square(Polygon):\n",
        " \n",
        "    def __init__(self):\n",
        "        Polygon.__init__(self, 4, \"SQUARE :\")\n",
        " \n",
        "    def inputsides(self):\n",
        "      print(self.name)\n",
        "      self.sides=float(input(\"Enter side  : \"))\n",
        "      \n",
        "    \n",
        "    def squArea(self):\n",
        "        a = self.sides\n",
        "        area=a**2\n",
        "        print(\"The area of square is : %0.2f  \" % area)\n",
        " \n",
        " \n",
        "ob = Triangle()\n",
        "ob.inputsides()\n",
        "ob.trianglearea()\n",
        " \n",
        "ob1 = Square()\n",
        "ob1.inputsides()\n",
        "ob1.squArea()"
      ],
      "execution_count": 5,
      "outputs": [
        {
          "output_type": "stream",
          "text": [
            "TRIANGLE :\n",
            "Enter side 1 : 6\n",
            "Enter side 2 : 5\n",
            "Enter side 3 : 7\n",
            "The area of the triangle is : 14.70  \n",
            "SQUARE :\n",
            "Enter side  : 5\n",
            "The area of square is : 25.00  \n"
          ],
          "name": "stdout"
        }
      ]
    }
  ]
}