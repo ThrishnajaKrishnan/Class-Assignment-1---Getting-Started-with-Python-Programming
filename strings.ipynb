{
  "nbformat": 4,
  "nbformat_minor": 0,
  "metadata": {
    "colab": {
      "name": "strings",
      "provenance": [],
      "authorship_tag": "ABX9TyOpeg3fDF23fVWk6TL9OWiv",
      "include_colab_link": true
    },
    "kernelspec": {
      "name": "python3",
      "display_name": "Python 3"
    }
  },
  "cells": [
    {
      "cell_type": "markdown",
      "metadata": {
        "id": "view-in-github",
        "colab_type": "text"
      },
      "source": [
        "<a href=\"https://colab.research.google.com/github/ThrishnajaKrishnan/Class-Assignment-1---Getting-Started-with-Python-Programming/blob/master/strings.ipynb\" target=\"_parent\"><img src=\"https://colab.research.google.com/assets/colab-badge.svg\" alt=\"Open In Colab\"/></a>"
      ]
    },
    {
      "cell_type": "code",
      "metadata": {
        "id": "RB2WM4zUJUCm"
      },
      "source": [
        "def Countletters(str,letter):\n",
        "  count=0\n",
        "  index=0\n",
        "  while index<len(str):\n",
        "    if letter==str[index]:\n",
        "      count=count+1\n",
        "    index=index+1\n",
        "  return count"
      ],
      "execution_count": 7,
      "outputs": []
    },
    {
      "cell_type": "code",
      "metadata": {
        "id": "I93-QSkKLlYF",
        "outputId": "3b77725c-4820-477c-e456-6662b35031a8",
        "colab": {
          "base_uri": "https://localhost:8080/",
          "height": 34
        }
      },
      "source": [
        "Countletters(\"banana\",\"n\")"
      ],
      "execution_count": 9,
      "outputs": [
        {
          "output_type": "execute_result",
          "data": {
            "text/plain": [
              "2"
            ]
          },
          "metadata": {
            "tags": []
          },
          "execution_count": 9
        }
      ]
    },
    {
      "cell_type": "code",
      "metadata": {
        "id": "yqsG1UIxM1je",
        "outputId": "ddf271bb-24cc-4167-a8a9-c527e7e04140",
        "colab": {
          "base_uri": "https://localhost:8080/",
          "height": 34
        }
      },
      "source": [
        "Countletters(\"Jupiter\",\"i\")"
      ],
      "execution_count": 10,
      "outputs": [
        {
          "output_type": "execute_result",
          "data": {
            "text/plain": [
              "1"
            ]
          },
          "metadata": {
            "tags": []
          },
          "execution_count": 10
        }
      ]
    },
    {
      "cell_type": "code",
      "metadata": {
        "id": "F9V7aiDWNIuv",
        "outputId": "95f88669-a60a-49fe-c14c-e26d4a4126df",
        "colab": {
          "base_uri": "https://localhost:8080/",
          "height": 34
        }
      },
      "source": [
        "Countletters(\"hope\",\"e\")"
      ],
      "execution_count": 11,
      "outputs": [
        {
          "output_type": "execute_result",
          "data": {
            "text/plain": [
              "1"
            ]
          },
          "metadata": {
            "tags": []
          },
          "execution_count": 11
        }
      ]
    },
    {
      "cell_type": "code",
      "metadata": {
        "id": "RywCGXnSNZ-s",
        "outputId": "3e8035aa-993a-4e3a-ce6f-2661ee9ed5a0",
        "colab": {
          "base_uri": "https://localhost:8080/",
          "height": 34
        }
      },
      "source": [
        "Countletters(\"thrishnaja\",\"h\")"
      ],
      "execution_count": 12,
      "outputs": [
        {
          "output_type": "execute_result",
          "data": {
            "text/plain": [
              "2"
            ]
          },
          "metadata": {
            "tags": []
          },
          "execution_count": 12
        }
      ]
    },
    {
      "cell_type": "code",
      "metadata": {
        "id": "_QNSJyYVNmkg"
      },
      "source": [
        "def Countletters2(str,letter,index):\n",
        "  count=0\n",
        "  while index<len(str):\n",
        "    if letter==str[index]:\n",
        "      count=count+1\n",
        "    index=index+1\n",
        "  return count"
      ],
      "execution_count": 13,
      "outputs": []
    },
    {
      "cell_type": "code",
      "metadata": {
        "id": "iSRb8nDcOp3Y",
        "outputId": "d0d81976-56e3-4472-bfb2-d428bffe0802",
        "colab": {
          "base_uri": "https://localhost:8080/",
          "height": 34
        }
      },
      "source": [
        "Countletters2(\"banana\",\"n\",3)"
      ],
      "execution_count": 14,
      "outputs": [
        {
          "output_type": "execute_result",
          "data": {
            "text/plain": [
              "1"
            ]
          },
          "metadata": {
            "tags": []
          },
          "execution_count": 14
        }
      ]
    },
    {
      "cell_type": "code",
      "metadata": {
        "id": "OaujDBq5O_qG",
        "outputId": "bc0489b6-0a43-47d7-f0e4-25c8f7a5104f",
        "colab": {
          "base_uri": "https://localhost:8080/",
          "height": 34
        }
      },
      "source": [
        "Countletters2(\"hope\",\"u\",6)"
      ],
      "execution_count": 22,
      "outputs": [
        {
          "output_type": "execute_result",
          "data": {
            "text/plain": [
              "0"
            ]
          },
          "metadata": {
            "tags": []
          },
          "execution_count": 22
        }
      ]
    },
    {
      "cell_type": "code",
      "metadata": {
        "id": "oXGNNsmKPv4X",
        "outputId": "c20ce159-3f24-4688-b875-b0a9328f5b66",
        "colab": {
          "base_uri": "https://localhost:8080/",
          "height": 34
        }
      },
      "source": [
        "Countletters2(\"Jupiter\",\"t\",4)"
      ],
      "execution_count": 24,
      "outputs": [
        {
          "output_type": "execute_result",
          "data": {
            "text/plain": [
              "1"
            ]
          },
          "metadata": {
            "tags": []
          },
          "execution_count": 24
        }
      ]
    },
    {
      "cell_type": "code",
      "metadata": {
        "id": "U6Gcjx-tQCLQ",
        "outputId": "7d9da668-c18d-4814-a982-d5641d1e200d",
        "colab": {
          "base_uri": "https://localhost:8080/",
          "height": 34
        }
      },
      "source": [
        "Countletters2(\"Thrishna\",\"n\",2)"
      ],
      "execution_count": 25,
      "outputs": [
        {
          "output_type": "execute_result",
          "data": {
            "text/plain": [
              "1"
            ]
          },
          "metadata": {
            "tags": []
          },
          "execution_count": 25
        }
      ]
    },
    {
      "cell_type": "code",
      "metadata": {
        "id": "0-LikHDgQSTe"
      },
      "source": [
        "def find(str,ch,index):\n",
        "  while index < len(str):\n",
        "    if str [index]==ch:\n",
        "      return index\n",
        "    index=index+1\n",
        "  return-1\n"
      ],
      "execution_count": 31,
      "outputs": []
    },
    {
      "cell_type": "code",
      "metadata": {
        "id": "SW3w5_KrQ4My",
        "outputId": "b031a8f1-e9ca-4588-ace6-74a08dbb86cc",
        "colab": {
          "base_uri": "https://localhost:8080/",
          "height": 34
        }
      },
      "source": [
        "find(\"banana\",\"n\",3)"
      ],
      "execution_count": 32,
      "outputs": [
        {
          "output_type": "execute_result",
          "data": {
            "text/plain": [
              "4"
            ]
          },
          "metadata": {
            "tags": []
          },
          "execution_count": 32
        }
      ]
    },
    {
      "cell_type": "code",
      "metadata": {
        "id": "vXidrGZ6Pq2m",
        "outputId": "f23cdd01-7e23-4ecd-9ae4-fdfba96e820f",
        "colab": {
          "base_uri": "https://localhost:8080/",
          "height": 34
        }
      },
      "source": [
        "find(\"Jupiter\",\"i\",2)"
      ],
      "execution_count": 35,
      "outputs": [
        {
          "output_type": "execute_result",
          "data": {
            "text/plain": [
              "3"
            ]
          },
          "metadata": {
            "tags": []
          },
          "execution_count": 35
        }
      ]
    },
    {
      "cell_type": "code",
      "metadata": {
        "id": "tXF7nzALT7NL",
        "outputId": "b3dafab8-af41-43a5-bae5-628b7450d359",
        "colab": {
          "base_uri": "https://localhost:8080/",
          "height": 34
        }
      },
      "source": [
        "find(\"hope\",\"g\",1)"
      ],
      "execution_count": 36,
      "outputs": [
        {
          "output_type": "execute_result",
          "data": {
            "text/plain": [
              "-1"
            ]
          },
          "metadata": {
            "tags": []
          },
          "execution_count": 36
        }
      ]
    },
    {
      "cell_type": "code",
      "metadata": {
        "id": "z04j-mGMUQ4g",
        "outputId": "4e0f8116-153d-4b1d-88a5-0a37d4a4e1f3",
        "colab": {
          "base_uri": "https://localhost:8080/",
          "height": 34
        }
      },
      "source": [
        "find(\"thrishna\",\"a\",1)"
      ],
      "execution_count": 37,
      "outputs": [
        {
          "output_type": "execute_result",
          "data": {
            "text/plain": [
              "7"
            ]
          },
          "metadata": {
            "tags": []
          },
          "execution_count": 37
        }
      ]
    }
  ]
}