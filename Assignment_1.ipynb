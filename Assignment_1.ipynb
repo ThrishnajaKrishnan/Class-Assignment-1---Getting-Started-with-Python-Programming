{
  "nbformat": 4,
  "nbformat_minor": 0,
  "metadata": {
    "colab": {
      "name": "Assignment 1",
      "provenance": [],
      "authorship_tag": "ABX9TyMPn1OfWc472b/y+O5kVlPE",
      "include_colab_link": true
    },
    "kernelspec": {
      "name": "python3",
      "display_name": "Python 3"
    }
  },
  "cells": [
    {
      "cell_type": "markdown",
      "metadata": {
        "id": "view-in-github",
        "colab_type": "text"
      },
      "source": [
        "<a href=\"https://colab.research.google.com/github/ThrishnajaKrishnan/Class-Assignment-1---Getting-Started-with-Python-Programming/blob/master/Assignment_1.ipynb\" target=\"_parent\"><img src=\"https://colab.research.google.com/assets/colab-badge.svg\" alt=\"Open In Colab\"/></a>"
      ]
    },
    {
      "cell_type": "code",
      "metadata": {
        "id": "qZv1Hf-lASdO",
        "colab_type": "code",
        "colab": {}
      },
      "source": [
        ""
      ],
      "execution_count": null,
      "outputs": []
    },
    {
      "cell_type": "markdown",
      "metadata": {
        "id": "69L4A4HCA-EJ",
        "colab_type": "text"
      },
      "source": [
        "Question no. 2"
      ]
    },
    {
      "cell_type": "code",
      "metadata": {
        "id": "S4k3XnSWBAvI",
        "colab_type": "code",
        "colab": {
          "base_uri": "https://localhost:8080/",
          "height": 68
        },
        "outputId": "e3eae643-fcc7-4a53-9da7-45339b415c97"
      },
      "source": [
        "Name = \"Thrishnaja Krishnan\"\n",
        "Address = \"Payyanur, Kannur\"\n",
        "Telephone_no =\"3567467\"\n",
        "print(\"Name:\"+Name+\"\\n\", \"Address :\"+ Address+\"\\n\", \"Telephone no:\"+Telephone_no)"
      ],
      "execution_count": 4,
      "outputs": [
        {
          "output_type": "stream",
          "text": [
            "Name:Thrishnaja Krishnan\n",
            " Address :Payyanur, Kannur\n",
            " Telephone no:3567467\n"
          ],
          "name": "stdout"
        }
      ]
    },
    {
      "cell_type": "markdown",
      "metadata": {
        "id": "wmGGHvU3Dxqs",
        "colab_type": "text"
      },
      "source": [
        "Question no. 3"
      ]
    },
    {
      "cell_type": "code",
      "metadata": {
        "id": "1EZ2lft5DCCm",
        "colab_type": "code",
        "colab": {
          "base_uri": "https://localhost:8080/",
          "height": 54
        },
        "outputId": "be801b1e-3b90-4ed0-9a7e-42fe082e2ec0"
      },
      "source": [
        " \n",
        "name = \"Thrishnaja Krishnan\"\n",
        "print(\"Your name is \", name)"
      ],
      "execution_count": 7,
      "outputs": [
        {
          "output_type": "stream",
          "text": [
            "Your name is  Thrishnaja Krishnan\n"
          ],
          "name": "stdout"
        }
      ]
    },
    {
      "cell_type": "markdown",
      "metadata": {
        "id": "j3VZnyalER-t",
        "colab_type": "text"
      },
      "source": [
        "Question no. 4"
      ]
    },
    {
      "cell_type": "code",
      "metadata": {
        "id": "TrkBHGk7EUW3",
        "colab_type": "code",
        "colab": {
          "base_uri": "https://localhost:8080/",
          "height": 68
        },
        "outputId": "63d9cd49-eae2-4026-a89f-bdc7888f6ff4"
      },
      "source": [
        "#area of a rectangle\n",
        "Width = float(input(\"Enter the width:\")) \n",
        "Height=float(input(\"Enter the height:\")) \n",
        "area=Width*Height\n",
        "print(\"The area is\", area, \"Square units\")"
      ],
      "execution_count": 9,
      "outputs": [
        {
          "output_type": "stream",
          "text": [
            "Enter the width:9\n",
            "Enter the height:3\n",
            "The area is 27.0 Square units\n"
          ],
          "name": "stdout"
        }
      ]
    },
    {
      "cell_type": "markdown",
      "metadata": {
        "id": "y3iH3q9-HVSq",
        "colab_type": "text"
      },
      "source": [
        "Question no. 5"
      ]
    },
    {
      "cell_type": "code",
      "metadata": {
        "id": "BbLaGhUlHamb",
        "colab_type": "code",
        "colab": {
          "base_uri": "https://localhost:8080/",
          "height": 68
        },
        "outputId": "db209635-8260-469a-a393-d781fffe692b"
      },
      "source": [
        "#area of a triangle\n",
        "Base=float(input(\"Enter the width:\")) \n",
        "Height=float(input(\"Enter the height:\")) \n",
        "area = .5*Base*Height\n",
        "print(\"The area is\", area, \"square units\")"
      ],
      "execution_count": 10,
      "outputs": [
        {
          "output_type": "stream",
          "text": [
            "Enter the width:9\n",
            "Enter the height:7\n",
            "The area is 31.5 square units\n"
          ],
          "name": "stdout"
        }
      ]
    },
    {
      "cell_type": "markdown",
      "metadata": {
        "id": "uCsEHku_IeHw",
        "colab_type": "text"
      },
      "source": [
        "Question no. 6"
      ]
    },
    {
      "cell_type": "code",
      "metadata": {
        "id": "JcIiWBBGIhEH",
        "colab_type": "code",
        "colab": {
          "base_uri": "https://localhost:8080/",
          "height": 51
        },
        "outputId": "bc859ab3-fa03-4697-be59-b1597eb8f174"
      },
      "source": [
        "#area of a circle\n",
        "radius = float(input(\"Enter the radius:\")) \n",
        "area=3.14*radius**2\n",
        "print(\"The area is\", area, \"square units\")"
      ],
      "execution_count": 11,
      "outputs": [
        {
          "output_type": "stream",
          "text": [
            "Enter the radius:45\n",
            "The area is 6358.5 square units\n"
          ],
          "name": "stdout"
        }
      ]
    },
    {
      "cell_type": "markdown",
      "metadata": {
        "id": "q1xBy414JjiH",
        "colab_type": "text"
      },
      "source": [
        "Question no. 7"
      ]
    },
    {
      "cell_type": "code",
      "metadata": {
        "id": "7erugF_XJm0Y",
        "colab_type": "code",
        "colab": {
          "base_uri": "https://localhost:8080/",
          "height": 88
        },
        "outputId": "cf0fe139-6be1-4490-eddb-0e319d054aba"
      },
      "source": [
        "Name = input(\"Enter your name: \") \n",
        "Age = input(\" Enter your age:\") \n",
        "print(\"My name is \"+ Name+\" and my age is \" + Age)"
      ],
      "execution_count": 17,
      "outputs": [
        {
          "output_type": "stream",
          "text": [
            "Enter your name: Thrishnaja Krishnan\n",
            " Enter your age:19\n",
            "My name is Thrishnaja Krishnan and my age is 19\n"
          ],
          "name": "stdout"
        }
      ]
    },
    {
      "cell_type": "markdown",
      "metadata": {
        "id": "72yu9lsZKzd_",
        "colab_type": "text"
      },
      "source": [
        "Question no. 8"
      ]
    },
    {
      "cell_type": "code",
      "metadata": {
        "id": "m4B8JhK6K2km",
        "colab_type": "code",
        "colab": {
          "base_uri": "https://localhost:8080/",
          "height": 51
        },
        "outputId": "0211b043-483c-432e-c407-b42bef62f3b8"
      },
      "source": [
        "a=float(input(\"Enter a number: \")) \n",
        "a=a+1\n",
        "print(a)"
      ],
      "execution_count": 14,
      "outputs": [
        {
          "output_type": "stream",
          "text": [
            "Enter a number: 4\n",
            "5.0\n"
          ],
          "name": "stdout"
        }
      ]
    },
    {
      "cell_type": "markdown",
      "metadata": {
        "id": "yL0erbu9LRyO",
        "colab_type": "text"
      },
      "source": [
        "Question no.9"
      ]
    },
    {
      "cell_type": "code",
      "metadata": {
        "id": "6Cmz77rLLWS7",
        "colab_type": "code",
        "colab": {
          "base_uri": "https://localhost:8080/",
          "height": 51
        },
        "outputId": "d0b370b6-d0ef-4d76-eb30-e2594368ec8c"
      },
      "source": [
        "Name = input(\"Enter your first name:\") \n",
        "print(Name)"
      ],
      "execution_count": 15,
      "outputs": [
        {
          "output_type": "stream",
          "text": [
            "Enter your first name:Thrishnaja\n",
            "Thrishnaja\n"
          ],
          "name": "stdout"
        }
      ]
    },
    {
      "cell_type": "code",
      "metadata": {
        "id": "qpWUnJZeLrGe",
        "colab_type": "code",
        "colab": {
          "base_uri": "https://localhost:8080/",
          "height": 72
        },
        "outputId": "29ee9b73-7bef-4b5d-b44d-38330f021ccf"
      },
      "source": [
        "input(\"Enter your first name: \")"
      ],
      "execution_count": 16,
      "outputs": [
        {
          "output_type": "stream",
          "text": [
            "Enter your first name: Thrishnaja\n"
          ],
          "name": "stdout"
        },
        {
          "output_type": "execute_result",
          "data": {
            "application/vnd.google.colaboratory.intrinsic+json": {
              "type": "string"
            },
            "text/plain": [
              "'Thrishnaja'"
            ]
          },
          "metadata": {
            "tags": []
          },
          "execution_count": 16
        }
      ]
    },
    {
      "cell_type": "markdown",
      "metadata": {
        "id": "K5nR8dPXJf3h",
        "colab_type": "text"
      },
      "source": [
        ""
      ]
    }
  ]
}